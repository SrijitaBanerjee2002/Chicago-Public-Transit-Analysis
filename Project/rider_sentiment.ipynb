{
 "cells": [
  {
   "metadata": {},
   "cell_type": "markdown",
   "source": [
    "## Rider Sentiment Analysis\n",
    "\n",
    "\n",
    "# After webscraping the data, we will perform sentiment analysis on the reviews of the riders.\n",
    "#### The data is collected from various sources including:\n",
    "- https://www.reddit.com/r/transit/comments/1bt9yng/the_chicago_l_is_an_american_treasure/\n",
    "- https://www.reddit.com/r/cta/comments/1dwa1w5/how_bad_is_the_cta_really_compared_to_other_cities/\n",
    "- https://www.tripadvisor.com/ShowUserReviews-g35805-d549354-r491931481-Chicago_Transit_Authority_CTA-Chicago_Illinois.html\n",
    "- https://www.yelp.com/biz/chicago-transit-authority-chicago-6\n",
    "#### Employee reviews from:\n",
    "https://www.indeed.com/cmp/Chicago-Transit-Authority/reviews\n",
    "\n",
    "\n"
   ],
   "id": "9036050f76a53d05"
  },
  {
   "metadata": {},
   "cell_type": "code",
   "outputs": [],
   "execution_count": null,
   "source": [
    "import pandas as pd\n",
    "import numpy as np\n",
    "import matplotlib.pyplot as plt\n",
    "import seaborn as sns\n",
    "import nltk\n",
    "from nltk.corpus import stopwords\n",
    "from nltk.tokenize import word_tokenize\n",
    "from nltk.stem import PorterStemmer\n",
    "from nltk.sentiment.vader import SentimentIntensityAnalyzer\n"
   ],
   "id": "64e0f09e1a92933d"
  }
 ],
 "metadata": {
  "kernelspec": {
   "display_name": "Python 3",
   "language": "python",
   "name": "python3"
  },
  "language_info": {
   "codemirror_mode": {
    "name": "ipython",
    "version": 2
   },
   "file_extension": ".py",
   "mimetype": "text/x-python",
   "name": "python",
   "nbconvert_exporter": "python",
   "pygments_lexer": "ipython2",
   "version": "2.7.6"
  }
 },
 "nbformat": 4,
 "nbformat_minor": 5
}
