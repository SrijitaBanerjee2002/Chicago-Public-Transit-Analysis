{
 "cells": [
  {
   "metadata": {},
   "cell_type": "markdown",
   "source": [
    "# CTA Progress Report\n",
    "#### Due Date: April 10, 2025"
   ],
   "id": "a601ebcad6085b46"
  },
  {
   "metadata": {},
   "cell_type": "code",
   "source": [
    "%pip install pandas\n",
    "%pip install numpy\n",
    "%pip install matplotlib\n",
    "%pip install seaborn"
   ],
   "id": "a8955a149b6614f4",
   "outputs": [],
   "execution_count": null
  },
  {
   "metadata": {},
   "cell_type": "code",
   "outputs": [],
   "execution_count": null,
   "source": [
    "\n",
    "import pandas as pd\n",
    "import numpy as np\n",
    "import matplotlib.pyplot as plt\n",
    "import seaborn as sns\n"
   ],
   "id": "84c521e43424c2f4"
  },
  {
   "metadata": {},
   "cell_type": "code",
   "outputs": [],
   "execution_count": null,
   "source": [
    "\n",
    "# Comment this out once we get to working with the data\n",
    "# Just a test\n",
    "np.random.seed()\n",
    "data = np.random.randint(0, 100, 10)\n",
    "sum_data = np.sum(data) \n",
    "print(f'The sum of the data is: {sum_data}')\n",
    "print('Hello World')\n"
   ],
   "id": "893c243f0dc3e93d"
  },
  {
   "metadata": {},
   "cell_type": "code",
   "source": [
    "# Load some data\n",
    "\n",
    "data = pd.read_csv('data/some_csv.csv') # This is how we'll access .CSVs in the data folder"
   ],
   "id": "cab034581e9e199a",
   "outputs": [],
   "execution_count": null
  },
  {
   "metadata": {},
   "cell_type": "markdown",
   "source": "",
   "id": "2d15c527790a352a"
  }
 ],
 "metadata": {
  "kernelspec": {
   "display_name": "Python 3",
   "language": "python",
   "name": "python3"
  },
  "language_info": {
   "codemirror_mode": {
    "name": "ipython",
    "version": 2
   },
   "file_extension": ".py",
   "mimetype": "text/x-python",
   "name": "python",
   "nbconvert_exporter": "python",
   "pygments_lexer": "ipython2",
   "version": "2.7.6"
  }
 },
 "nbformat": 4,
 "nbformat_minor": 5
}
