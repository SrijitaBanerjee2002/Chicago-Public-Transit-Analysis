{
 "cells": [
  {
   "cell_type": "code",
   "execution_count": null,
   "id": "initial_id",
   "metadata": {
    "collapsed": true
   },
   "outputs": [],
   "source": [
    ""
   ]
  },
  {
   "metadata": {},
   "cell_type": "markdown",
   "source": [
    "## Progress Report: CTA Analysis\n",
    "Team Members:\n",
    "Amina, Burak, Heer, Prince, Srijita\n",
    "\n",
    "\n",
    "#### Project Introduction\n",
    "\n",
    "#### Changes since proposal\n",
    "\n",
    "#### How we prepared our data\n",
    "\n",
    "&nbsp;&nbsp;&nbsp;&nbsp;\n",
    "### Exploratory data analysis"
   ],
   "id": "2cd568f4ff5923f"
  },
  {
   "metadata": {},
   "cell_type": "code",
   "outputs": [],
   "execution_count": null,
   "source": "# TODO Exploratory Data Analysis",
   "id": "d8beb4a260a7719a"
  },
  {
   "metadata": {},
   "cell_type": "markdown",
   "source": "",
   "id": "2972689700721da"
  },
  {
   "metadata": {},
   "cell_type": "markdown",
   "source": "### Five Visualizations",
   "id": "51d611cbdd4c1491"
  },
  {
   "metadata": {},
   "cell_type": "code",
   "outputs": [],
   "execution_count": null,
   "source": "# TODO Five Visualizations",
   "id": "efc11f03f3f1d7ae"
  },
  {
   "metadata": {},
   "cell_type": "markdown",
   "source": "### Two ML Analyses",
   "id": "f3712c74f3631d4d"
  },
  {
   "metadata": {},
   "cell_type": "code",
   "outputs": [],
   "execution_count": null,
   "source": "# TODO Two ML Analyses",
   "id": "734387aff28ba8ac"
  },
  {
   "metadata": {},
   "cell_type": "markdown",
   "source": [
    "### Reflection on our project\n",
    "- What is the most challenging part of the project that you’ve encountered so far?\n",
    "- What are your initial insights?\n",
    "- Are there any concrete results you can show at this point? If not, why not?\n",
    "- Going forward, what are the current biggest problems you’re facing?\n",
    "- Do you think you are on track with your project? If not, what parts do you need to\n",
    "dedicate more time to?\n",
    "- Given your initial exploration of the data, is it worth proceeding with your project,\n",
    "why? If not, how will you move forward (method, data etc)?\n",
    "\n"
   ],
   "id": "e8fcc100a1ede0c7"
  },
  {
   "metadata": {},
   "cell_type": "markdown",
   "source": [
    "### Next steps\n",
    "\n",
    "- What are the next steps we need to take for the project to be successful next month?"
   ],
   "id": "157849b5745a9d37"
  }
 ],
 "metadata": {
  "kernelspec": {
   "display_name": "Python 3",
   "language": "python",
   "name": "python3"
  },
  "language_info": {
   "codemirror_mode": {
    "name": "ipython",
    "version": 2
   },
   "file_extension": ".py",
   "mimetype": "text/x-python",
   "name": "python",
   "nbconvert_exporter": "python",
   "pygments_lexer": "ipython2",
   "version": "2.7.6"
  }
 },
 "nbformat": 4,
 "nbformat_minor": 5
}
