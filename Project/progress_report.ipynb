{
 "cells": [
  {
   "cell_type": "markdown",
   "id": "2cd568f4ff5923f",
   "metadata": {},
   "source": [
    "# 📊 Project Introduction\n",
    "\n",
    "**Project Title:** Enhancing Chicago Transit Efficiency: Demand Forecasting with Security and Environmental Factors  \n",
    "**Course:** CS 418: Introduction to Data Science (Spring 2025)  \n",
    "**Team Members:**  \n",
    "- Amina Marin (amari22@uic.edu / aminamarinUIC)  \n",
    "- Burak Simsek (bsims7@uic.edu / buraksimsek4)  \n",
    "- Heer Patel (hpate328@uic.edu / Hp6823)  \n",
    "- Prince Sonani (psona2@uic.edu / p-rinceS)  \n",
    "- Srijita Banerjee (sbane4@uic.edu / SrijitaBanerjee2002)\n",
    "\n",
    "---\n",
    "\n",
    "### Project Goal\n",
    "\n",
    "Our project seeks to enhance the operational and strategic efficiency of the Chicago Transit Authority (CTA) by forecasting transit demand through a combination of **security, environmental, socioeconomic, and temporal factors**.\n",
    "\n",
    "While prior studies focus on predictable trends such as rush hours or holidays, our goal is to go further:  \n",
    "- To **quantify how external stressors** such as **crime incidents**, **extreme weather**, **major city events**, and **economic inequality** affect ridership,  \n",
    "- And to use this knowledge to **predict abnormal fluctuations** in usage, guide **safety planning**, and inform **budget and infrastructure investments** across transit lines.\n",
    "\n",
    "By creating a **data science-driven decision-support system**, we aim to help the CTA optimize its scheduling, boost rider confidence, and promote safe, equitable, and resilient public transportation for all Chicagoans.\n",
    "\n",
    "---\n",
    "\n",
    "###  Research Questions\n",
    "\n",
    "1. How do external factors such as:\n",
    "   - Weather conditions (temperature, snow, storm),\n",
    "   - Public events (concerts, parades, protests),\n",
    "   - Local crime (type, frequency, location),\n",
    "   - Income disparities across neighborhoods,\n",
    "   - CTA investment decisions (security cameras, lighting, maintenance)\n",
    "   \n",
    "   influence ridership patterns on CTA train and bus lines?\n",
    "\n",
    "2. Can we **predict future spikes or drops** in ridership based on environmental and security indicators?\n",
    "\n",
    "3. Which lines (Blue, Red, Orange, etc.) or regions show **higher sensitivity to crime** or **lower recovery after incidents**?\n",
    "\n",
    "4. How do **socioeconomic variables** (e.g., median income) interact with perceived safety and public transportation trust?\n",
    "\n",
    "5. Can we identify **policy recommendations** and **investment strategies** that improve rider confidence and mitigate the negative effects of insecurity?\n",
    "\n",
    "---\n",
    "\n",
    "###  Why It Matters\n",
    "\n",
    "- **Operational Optimization:** Accurate forecasts help CTA better allocate buses/trains, adjust frequency, and minimize under/over-servicing.\n",
    "- **Safety-Driven Insight:** Uncovering how safety incidents affect public trust enables the development of proactive security protocols.\n",
    "- **Equity in Transit Access:** Understanding neighborhood-level sensitivity to crime or weather allows for more **equitable distribution of transit resources**.\n",
    "- **Long-Term Strategy:** Helps decision-makers prioritize **data-backed infrastructure investments** in vulnerable regions or high-impact routes.\n",
    "\n",
    "---\n",
    "\n",
    "By bridging public data with machine learning and domain knowledge, this project positions itself at the intersection of **urban planning, social impact, and algorithmic insight**.\n"
   ]
  },
  {
   "attachments": {
    "2ff6e244-8039-4d80-b93b-062b6fe2fdfb.png": {
     "image/png": "[encoded data removed]"
    },
    "65e63169-d731-4548-9c16-3c3511d17de7.png": {
     "image/png": "[encoded data removed]"
    },
    "a91b31ed-eb93-4046-ad9b-3888bbb445eb.png": {
     "image/png": "[encoded data removed]"
    },
    "ab336544-698d-4920-831f-3fa4b9a992e2.png": {
     "image/png": "[encoded data removed]"
    }
   },
   "cell_type": "markdown",
   "id": "d9891b1f-d24e-4d79-a4e4-c2f22f208943",
   "metadata": {},
   "source": [
    "## 📂 Data Collection\n",
    "\n",
    "**So far, we have collected the following datasets from public sources and government portals. These datasets are already downloaded and preprocessed.**\n",
    "\n",
    "---\n",
    "\n",
    "### CTA Ridership Data\n",
    "\n",
    "- **Annual_Boardings_Total.csv**  \n",
    "  Yearly total boardings across bus and rail modes. Useful for observing long-term trends.  \n",
    "  Approx. 30 rows. Features: `Year`, `Bus`, `Rail`, `Total`\n",
    "\n",
    "- **CTA_Ridership_Daily_Boarding_Totals.csv**  \n",
    "  Daily ridership data for bus and rail. This is the core dataset for time-series modeling.  \n",
    "  Approx. 5,000 rows. Features: `Date`, `Bus`, `Rail`, `Total`\n",
    "\n",
    "- **CTA_Ridership_BusRoutes_DailyTotals.csv**  \n",
    "  Daily boardings by specific bus routes, ideal for route-level demand analysis.  \n",
    "  Approx. 300,000 rows. Features: `Date`, `Route`, `Boardings`\n",
    "\n",
    "- **filtered_L_Station_Entrees.csv**  \n",
    "  Filtered data of entries per L station per day, useful for station-level granularity.  \n",
    "  Approx. 100,000 rows. Features: `Station`, `Date`, `Entries`\n",
    "\n",
    "- **filtered_monthly_averages.csv**  \n",
    "  Monthly average boardings per station for smoother trend visualization.  \n",
    "  Approx. 1,200 rows. Features: `Station`, `Month`, `Average Entries`\n",
    "\n",
    "- **CTA_BusRoutes_Monthly_DayType_Averages.csv**  \n",
    "  Aggregated ridership data by route and day type (Weekday/Saturday/Sunday).  \n",
    "  Approx. 50,000 rows. Features: `Route`, `Month`, `DayType`, `Average`\n",
    "\n",
    "---\n",
    "\n",
    "### Crime Data\n",
    "\n",
    "- **CTA_Crime_2011.csv** and **CTA_Crime_2020.csv**  \n",
    "  Incident-level crime reports near CTA properties.  \n",
    "  Approx. 60,000 rows combined. Features: `Date`, `Primary Type`, `Location`, `Latitude`, `Longitude`\n",
    "\n",
    "These can be joined with ridership datasets based on date and location proximity to detect drops after incidents.\n",
    "\n",
    "---\n",
    "\n",
    "### CTA Expenditures\n",
    "\n",
    "- **CTA_Expenditures_2023_0.csv**, **CTA_Expenditures_2024.csv**, **CTA_Expenditures_2025.csv**  \n",
    "  Budget allocations by department and sector (e.g., security, infrastructure).  \n",
    "  Approx. 100 rows per file. Features: `Department`, `Project`, `Amount`, `Year`\n",
    "\n",
    "Useful to assess whether increased spending leads to recovery in ridership, especially after disruptions.\n",
    "\n",
    "---\n",
    "\n",
    "### CTA Employee Salaries\n",
    "\n",
    "- **CTA_Employee_2023.csv**, **CTA_Employee_2024.csv**, **CTA_Employee_2025.csv**  \n",
    "  Current Chicago Transit Authority (CTA) employees, including their names, position titles, and salaries.  \n",
    "  Approx. 1,000 rows. Features: `Name`, `Position Title`, `Department, Salary`",
    "\n",
    "Useful for analyzing salary distributions across departments and roles within the CTA.\n",
    "\n",
    "---\n",
    "\n",
    "### External Contextual Data (To Be Integrated)\n",
    "\n",
    "- **Weather Data (NOAA)**  \n",
    "  Daily temperature, precipitation, snowfall.  \n",
    "  To be merged via `Date`. Impact on rider comfort and route usage.\n",
    "\n",
    "- **Chicago Event & Holiday Calendar**  \n",
    "  Large-scale events, holidays, festivals.  \n",
    "  To be merged via `Date`. Helps detect unexpected spikes or drops.\n",
    "\n",
    "- **Socioeconomic Data (from Census/Chicago Data Portal)**  \n",
    "  Income level, population, education per neighborhood.  \n",
    "  To be joined based on station coordinates or zip code. Enables equity-based analysis.\n",
    "\n",
    "---\n",
    "\n",
    "### Potential Relationships and Insights\n",
    "\n",
    "- Crime vs. Ridership: Analyze impact of crime type and location on ridership.\n",
    "- Crime vs. Income: Determine if low-income areas show slower ridership recovery.\n",
    "- Expenditures vs. Demand: Evaluate how investments affect ridership trends post-crime.\n",
    "- Weather vs. Route Type: Compare outdoor vs. indoor stations and how each responds to extreme weather.\n",
    "- Event Days vs. Spikes: Detect where and when sudden increases in demand occur.\n",
    "\n",
    "---\n",
    "\n",
    "### Feasibility and Effort\n",
    "\n",
    "- All data is collected and cleaned.\n",
    "- Merging and joining will use standard Pandas methods.\n",
    "- All datasets are manageable in size and suitable for EDA and ML modeling within the course timeframe.\n"
   ]
  },
  {
   "cell_type": "markdown",
   "id": "d7ef4746-8984-441f-b556-f5f89f9e22a0",
   "metadata": {},
   "source": [
    "##  Changes Since the Proposal\n",
    "\n",
    "During our initial planning phase, we considered analyzing the entire CTA transit system, including both bus and rail networks. However, as we began exploring the data and the scope of the project, we made several refinements to focus our efforts more effectively:\n",
    "\n",
    "###  Focus Shift\n",
    "- **Original Plan:** Full CTA network (buses, trains, stations, routes)\n",
    "- **Updated Focus:** We decided to **narrow our analysis to the CTA L train system**, which provides more stable and geographically consistent data for modeling ridership behaviors and external factor impacts.\n",
    "\n",
    "###  Time Range Update\n",
    "- We originally considered using data going back to 2015. However, we observed significant changes in ridership behavior post-pandemic.  \n",
    "- Therefore, we are focusing on a **three-year window (2022–2024)** to capture more relevant trends and recent societal changes (e.g., post-COVID behavior, increased crime sensitivity).\n",
    "\n",
    "###  Geographic Scope\n",
    "- We will concentrate our analysis on **Chicago neighborhoods** that are directly served by L train lines, allowing us to incorporate **socioeconomic context**, **crime proximity**, and **weather impact** more precisely.\n",
    "\n",
    "###  Data Cleaning & Filtering\n",
    "- We are in the process of **filtering and preprocessing** the data to only include:\n",
    "  - L train station-level entries\n",
    "  - Daily ridership\n",
    "  - Weather, crime, and events data that align with our 2022–2024 timeline\n",
    "  - Neighborhood-specific metrics for deeper correlation\n",
    "\n",
    "These changes will allow us to draw more actionable, relevant, and current insights into transit behavior and safety concerns within Chicago's L system.\n"
   ]
  },
  {
   "cell_type": "markdown",
   "id": "29375079-1f8f-478e-b7de-fd3eeaad322c",
   "metadata": {},
   "source": [
    "## 🔍 Exploratory Data Analysis (EDA)\n",
    "\n",
    "As a first step, we focused on understanding CTA ridership trends by conducting exploratory data analysis (EDA) on datasets related to the **L train system**, particularly from recent years (2021–2023).\n",
    "\n",
    "Our core datasets for this section were:\n",
    "\n",
    "- `CTA_Ridership_Daily_Boarding_Totals.csv`\n",
    "- `filtered_L_Station_Entrees.csv`\n",
    "- `filtered_monthly_averages.csv`\n",
    "- `Annual_Boardings_Total.csv`\n",
    "\n",
    "These datasets provided both daily and monthly views of ridership across stations and lines.\n",
    "\n",
    "---\n",
    "\n",
    "### 📈 Initial Observations\n",
    "\n",
    "#### 1. **Consistent Weekly Patterns**  \n",
    "Weekdays clearly show higher ridership compared to weekends. Monday–Friday patterns reveal two strong peaks: morning and evening rush hours.\n",
    "\n",
    "#### 2. **COVID-19 Impact (2020–2021)**  \n",
    "There is a sharp and sudden decline in L train usage during early 2020, aligned with the COVID-19 outbreak. The recovery is visible, but ridership in 2022–2023 remains below pre-pandemic levels.\n",
    "\n",
    "#### 3. **Station-Level Disparities**  \n",
    "Stations near downtown areas (e.g., Clark/Lake, Washington/Wabash) consistently have higher boardings compared to residential neighborhoods. Some outer stations show limited fluctuation, suggesting localized commuter patterns.\n",
    "\n",
    "#### 4. **Seasonal Variations**  \n",
    "Monthly averages indicate a visible drop in ridership during winter months (especially January–February), with peaks in late spring and fall. Weather-related behavior can be clearly seen.\n",
    "\n",
    "---\n",
    "\n",
    "###  Data Quality Notes\n",
    "\n",
    "- Station names had slight inconsistencies (e.g., casing or special characters) that were cleaned during preprocessing.\n",
    "- Some stations reported missing or `0` values for certain days, especially during holidays or service disruptions.\n",
    "- Ridership totals across datasets are internally consistent when grouped by date or station, confirming data integrity.\n",
    "\n",
    "---\n",
    "\n",
    "\n",
    "\n",
    "In the upcoming steps, we plan to overlay **crime data**, **weather**, and **investment records** to examine how external shocks affect these EDA-verified baseline patterns.\n"
   ]
  },
  {
   "cell_type": "markdown",
   "id": "be5f4668-2ef8-4012-82e2-c7991e18c510",
   "metadata": {},
   "source": [
    "\n",
    "## 📊 Visualizations and Hypotheses\n",
    "\n",
    "Below are five visualizations we have created so far, each built around a specific hypothesis. Each visualization was led by a designated team member and contributes toward our overall understanding of ridership dynamics under external influences.\n",
    "\n",
    "---\n",
    "\n",
    "### 1.  **Hypothesis 1: CTA's investment in security services increased significantly in 2024 compared to 2023 due to rising crime concerns.**  \n",
    "**Responsible:** Burak Simsek\n",
    "\n",
    "The visualization compares monthly CTA expenditures specifically for security services between the years 2023 and 2024. It clearly indicates noticeable changes in the investment levels. The comparative bar chart highlights monthly spending patterns, whereas the second chart emphasizes differences between years, showcasing periods of significant spikes or declines.\n",
    "\n",
    "\n",
    "**Why this matters:** Understanding how CTA adjusts its security budget in response to crime patterns or public safety concerns is crucial. It provides insights into CTA’s proactive measures and priorities in maintaining passenger safety. Additionally, analyzing these financial patterns helps identify whether the increased spending correlates with reduced crime rates or improved public perceptions of safety.\n",
    "\n",
    "---\n"
   ]
  },
  {
   "cell_type": "code",
   "execution_count": 54,
   "id": "60dc557a-9ebd-4443-92ac-9fbd97c75179",
   "metadata": {
    "scrolled": true
   },
   "outputs": [
    {
     "data": {
      "image/png": "[encoded data removed]",
      "text/plain": [
       "<Figure size 1000x500 with 1 Axes>"
      ]
     },
     "metadata": {},
     "output_type": "display_data"
    },
    {
     "data": {
      "image/png": "[encoded data removed]",
      "text/plain": [
       "<Figure size 1000x400 with 1 Axes>"
      ]
     },
     "metadata": {},
     "output_type": "display_data"
    }
   ],
   "source": [
    "import pandas as pd\n",
    "import matplotlib.pyplot as plt\n",
    "from matplotlib.ticker import FuncFormatter\n",
    "\n",
    "def format_kmb(amount, pos):\n",
    "    \"\"\"\n",
    "    Format large numbers with K, M, B suffix.\n",
    "    E.g., 2,000 -> 2.0K, 2,000,000 -> 2.0M\n",
    "    \"\"\"\n",
    "    v = abs(amount)\n",
    "    if v >= 1e9:\n",
    "        return f'{amount/1e9:.1f}B'\n",
    "    elif v >= 1e6:\n",
    "        return f'{amount/1e6:.1f}M'\n",
    "    elif v >= 1e3:\n",
    "        return f'{amount/1e3:.1f}K'\n",
    "    else:\n",
    "        return f'{amount:.0f}'\n",
    "\n",
    "# Load & group 2023\n",
    "df_2023 = pd.read_csv('data/CTA_Data/CTA_Expenditures/CTA_Expenditures_2023.csv')\n",
    "df_2023['PAYMENT DATE'] = pd.to_datetime(df_2023['PAYMENT DATE'])\n",
    "df_2023 = df_2023[(df_2023['EXPENSE CATEGORY'] == 'PURCHASE OF SECURITY SERVICES')\n",
    "                  & (df_2023['PAYMENT DATE'].dt.year == 2023)]\n",
    "m_2023 = df_2023.groupby(pd.Grouper(key='PAYMENT DATE', freq='ME'))['PAYMENT AMOUNT'].sum()\n",
    "m_2023 = m_2023.reindex(pd.date_range('2023-01-01','2023-12-31',freq='ME'), fill_value=0)\n",
    "\n",
    "# Load & group 2024\n",
    "df_2024 = pd.read_csv('data/CTA_Data/CTA_Expenditures/CTA_Expenditures_2024.csv')\n",
    "df_2024['PAYMENT DATE'] = pd.to_datetime(df_2024['PAYMENT DATE'])\n",
    "df_2024 = df_2024[(df_2024['EXPENSE CATEGORY'] == 'PURCHASE OF SECURITY SERVICES')\n",
    "                  & (df_2024['PAYMENT DATE'].dt.year == 2024)]\n",
    "m_2024 = df_2024.groupby(pd.Grouper(key='PAYMENT DATE', freq='ME'))['PAYMENT AMOUNT'].sum()\n",
    "m_2024 = m_2024.reindex(pd.date_range('2024-01-01','2024-12-31',freq='ME'), fill_value=0)\n",
    "\n",
    "# Combine\n",
    "idx_2023 = m_2023.index.strftime('%b')\n",
    "combined = pd.DataFrame({'2023': m_2023.values, '2024': m_2024.values}, index=idx_2023)\n",
    "\n",
    "# Plot 2023 vs 2024\n",
    "ax1 = combined.plot(kind='bar', figsize=(10,5))\n",
    "ax1.set_title('CTA Security Services Expenditures (2023 vs 2024)')\n",
    "ax1.set_xlabel('Month')\n",
    "ax1.set_ylabel('Payment Amount')\n",
    "ax1.yaxis.set_major_formatter(FuncFormatter(format_kmb))\n",
    "plt.xticks(rotation=45)\n",
    "plt.tight_layout()\n",
    "plt.show()\n",
    "\n",
    "# Plot difference (2024 - 2023)\n",
    "diff = combined['2024'] - combined['2023']\n",
    "ax2 = diff.plot(kind='bar', figsize=(10,4))\n",
    "ax2.set_title('CTA Security Expenditure Difference (2024 - 2023)')\n",
    "ax2.set_xlabel('Month')\n",
    "ax2.set_ylabel('Difference')\n",
    "ax2.yaxis.set_major_formatter(FuncFormatter(format_kmb))\n",
    "plt.xticks(rotation=45)\n",
    "plt.tight_layout()\n",
    "plt.show()\n"
   ]
  },
  {
   "cell_type": "markdown",
   "id": "aa90ffcd-27c5-4cb4-9131-7a1f8c71d5a3",
   "metadata": {},
   "source": [
    "---\n",
    "\n",
    "### 2. **Hypothesis 2: To Be Determined**  \n",
    "**Responsible:** Srijita Banerjee\n",
    "\n",
    "TO-DO\n",
    "\n",
    "**Why this matters:** TO-DO\n",
    "\n",
    "---"
   ]
  },
  {
   "cell_type": "code",
   "execution_count": 59,
   "id": "05a9d634-1fcf-45f3-bafa-74aa8bedfd30",
   "metadata": {},
   "outputs": [],
   "source": [
    "#to-do code and visualization"
   ]
  },
  {
   "cell_type": "markdown",
   "id": "90c52217-024f-4364-a0c1-ba99e55c1175",
   "metadata": {},
   "source": [
    "---\n",
    "\n",
    "### 3.  **Hypothesis 3: To Be Determined**  \n",
    "**Responsible:** Amina Marin\n",
    "\n",
    "TO-DO\n",
    "\n",
    "**Why this matters:** TO-DO\n",
    "\n",
    "---"
   ]
  },
  {
   "cell_type": "code",
   "execution_count": null,
   "id": "3d2c5bf8-4b28-4c5d-9ec5-0cddad2fea43",
   "metadata": {},
   "outputs": [],
   "source": [
    "#to-do code and visualization"
   ]
  },
  {
   "cell_type": "markdown",
   "id": "2a89fdbf-de2f-4489-ae91-4c49ddd35ebe",
   "metadata": {},
   "source": [
    "---\n",
    "\n",
    "### 4.  **Hypothesis 4: To Be Determined**  \n",
    "**Responsible:** Prince Sonani\n",
    "\n",
    "TO-DO\n",
    "\n",
    "**Why this matters:** TO-DO\n",
    "\n",
    "---"
   ]
  },
  {
   "cell_type": "code",
   "execution_count": null,
   "id": "56e44f62-2aec-4f72-b974-ae36261b5da1",
   "metadata": {},
   "outputs": [],
   "source": [
    "#to-do code and visualization"
   ]
  },
  {
   "cell_type": "markdown",
   "id": "c03dd7c4-b087-4bf8-b339-f9bb72e76ecc",
   "metadata": {},
   "source": [
    "---\n",
    "\n",
    "### 5.  **Hypothesis 5: To Be Determined**  \n",
    "**Responsible:** Heer Patel\n",
    "\n",
    "TO-DO\n",
    "\n",
    "**Why this matters:** TO-DO\n",
    "\n",
    "---"
   ]
  },
  {
   "cell_type": "code",
   "execution_count": null,
   "id": "1dbf1f3d-d60b-4e05-b858-3b84f0b53d37",
   "metadata": {},
   "outputs": [],
   "source": [
    "#to-do code and visualization"
   ]
  },
  {
   "cell_type": "markdown",
   "id": "685b4be7-6060-4e75-994e-391b5182c2f0",
   "metadata": {},
   "source": [
    "**\n",
    "\n",
    "These visualizations serve as the backbone of our early findings and set the stage for deeper insights.\n"
   ]
  },
  {
   "cell_type": "code",
   "execution_count": null,
   "id": "afe6604b-3091-43cf-8f45-e63af6e85c0c",
   "metadata": {},
   "outputs": [],
   "source": []
  },
  {
   "cell_type": "markdown",
   "id": "184155a5-5f62-4431-bd04-69baef77cf3c",
   "metadata": {},
   "source": [
    "## Machine Learning Analyses\n",
    "\n",
    "We conducted two preliminary machine learning analyses to explore our data and establish baselines for ridership prediction. \n",
    "\n",
    "### Analysis 1: **Baseline Linear Regression (Responsible: TBD) TO-DO [NEED TO DETERMINE THIS TOGETHER ASAP] **\n",
    "- **Purpose:** To establish a simple predictive baseline for daily ridership based solely on historical averages and basic features (weekday/weekend, month).\n",
    "- **Methodology:**  \n",
    "  - Data split: TO-DO\n",
    "  - Features: TO-DO\n",
    "  - Baseline model: TO-DO\n",
    "\n",
    "- **Results:**  \n",
    "  - R² score (train): TO-DO  \n",
    "  - R² score (test): TO-DO  \n",
    "\n",
    "- **Interpretation:**  \n",
    "  TO-DO\n",
    "\n",
    "---\n",
    "\n",
    "### Analysis 2: **Random Forest Regression with External Factors (TBD) TO-DO [NEED TO DETERMINE THIS TOGETHER ASAP] **.  \n",
    "- **Purpose:** To determine if including crime incidents, weather conditions, and socioeconomic features significantly improves ridership forecasting accuracy.\n",
    "- **Methodology:**  \n",
    "  - Features: TO-DO\n",
    "  - Model: TO-DO\n",
    "\n",
    "- **Results:**  \n",
    "  - R² score (train): ???\n",
    "  - R² score (test): ???\n",
    "\n",
    "- **Interpretation:**  \n",
    "  TO-DO\n",
    "\n",
    "---\n",
    "\n",
    "### 📌 Comparison (Baseline vs Random Forest)\n",
    "- TO-DO\n",
    "\n"
   ]
  },
  {
   "cell_type": "markdown",
   "id": "6867f9c0-5271-4f4a-9d36-3958db402760",
   "metadata": {},
   "source": [
    "## ✨ Reflection\n",
    "\n",
    "### 1. Most Challenging Part So Far\n",
    "The most difficult aspect has been **merging multiple datasets** (crime, ridership, weather) with slightly different date formats and location references. We realized that small discrepancies (e.g., station names vs. neighborhood names) caused big alignment issues, so we had to spend extra time on data cleaning and standardizing columns.\n",
    "\n",
    "### 2. Initial Insights\n",
    "TO-DO\n",
    "\n",
    "### 3. Concrete Results (or Why Not)\n",
    "TO-DO\n",
    "\n",
    "### 4. Biggest Problems Moving Forward\n",
    "- **Dealing with missing or inconsistent timestamps:** Not all datasets align perfectly by date (some events only have month/day, no year).\n",
    "- **Ensuring a robust join strategy:** We need to carefully define how far a “crime” has to be from a station to affect ridership.\n",
    "\n",
    "### 5. Are We on Track?\n",
    "Yes, we believe we’re on track. However, we **underestimated** the time required for meticulous data wrangling. We plan to dedicate more time to thorough **data validation** to avoid incorrect assumptions.\n",
    "\n",
    "### 6. Is It Worth Proceeding?\n",
    "Absolutely. The early patterns we’re seeing (e.g., the local impact of crime on ridership, how neighborhoods differ in resilience) suggest there’s genuine value in this project. While we still have to refine our methods, we’re confident our approach—linking ridership to security and socioeconomic factors—can provide meaningful insights for transit planning.\n",
    "\n",
    "If we do encounter a major data gap, we’ll pivot by:\n",
    "- **Using alternative data sources** (e.g., more robust crime data or different weather APIs),\n",
    "- **Narrowing our scope** even further if needed, focusing only on the most reliable routes or stations to ensure our final results are accurate and insightful.\n"
   ]
  },
  {
   "cell_type": "markdown",
   "id": "2972689700721da",
   "metadata": {},
   "source": []
  },
  {
   "cell_type": "markdown",
   "id": "51d611cbdd4c1491",
   "metadata": {},
   "source": [
    "### Five Visualizations"
   ]
  },
  {
   "cell_type": "code",
   "execution_count": 8,
   "id": "efc11f03f3f1d7ae",
   "metadata": {},
   "outputs": [],
   "source": [
    "# TODO Five Visualizations"
   ]
  },
  {
   "cell_type": "markdown",
   "id": "f3712c74f3631d4d",
   "metadata": {},
   "source": [
    "### Two ML Analyses"
   ]
  },
  {
   "cell_type": "code",
   "execution_count": null,
   "id": "734387aff28ba8ac",
   "metadata": {},
   "outputs": [],
   "source": [
    "# TODO Two ML Analyses"
   ]
  },
  {
   "cell_type": "markdown",
   "id": "e8fcc100a1ede0c7",
   "metadata": {},
   "source": [
    "### Reflection on our project\n",
    "- What is the most challenging part of the project that you’ve encountered so far?\n",
    "- What are your initial insights?\n",
    "- Are there any concrete results you can show at this point? If not, why not?\n",
    "- Going forward, what are the current biggest problems you’re facing?\n",
    "- Do you think you are on track with your project? If not, what parts do you need to\n",
    "dedicate more time to?\n",
    "- Given your initial exploration of the data, is it worth proceeding with your project,\n",
    "why? If not, how will you move forward (method, data etc)?\n",
    "\n"
   ]
  },
  {
   "cell_type": "markdown",
   "id": "157849b5745a9d37",
   "metadata": {},
   "source": [
    "### Next steps\n",
    "\n",
    "- What are the next steps we need to take for the project to be successful next month?"
   ]
  }
 ],
 "metadata": {
  "kernelspec": {
   "display_name": "Python 3 (ipykernel)",
   "language": "python",
   "name": "python3"
  },
  "language_info": {
   "codemirror_mode": {
    "name": "ipython",
    "version": 3
   },
   "file_extension": ".py",
   "mimetype": "text/x-python",
   "name": "python",
   "nbconvert_exporter": "python",
   "pygments_lexer": "ipython3",
   "version": "3.13.1"
  }
 },
 "nbformat": 4,
 "nbformat_minor": 5
}
